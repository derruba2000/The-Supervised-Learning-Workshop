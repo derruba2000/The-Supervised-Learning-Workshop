{
 "cells": [
  {
   "cell_type": "code",
   "execution_count": 1,
   "metadata": {},
   "outputs": [],
   "source": [
    "import pandas as pd\n",
    "import numpy as np\n",
    "import matplotlib.pyplot as plt\n",
    "from sklearn.metrics import r2_score"
   ]
  },
  {
   "cell_type": "code",
   "execution_count": 3,
   "metadata": {},
   "outputs": [],
   "source": [
    "# model function\n",
    "def h_x(Beta, X):\n",
    "# calculate the matrix dot product of X and the Betas\n",
    "    return np.dot(Beta, X).flatten()\n",
    "\n",
    "# cost function\n",
    "def J_beta(pred, true):\n",
    "# mean squared error\n",
    "    return np.mean((pred - true) ** 2)\n",
    "\n",
    "# update function\n",
    "def update(pred, true, X, gamma):\n",
    "    return gamma * np.sum((true - pred) * X, axis = 1)\n",
    "\n",
    "# load the data\n",
    "df = pd.read_csv('C:/Data/SupervisedLearningWShop/synth_temp.csv')\n",
    "# slice 1902 and forward\n",
    "df = df.loc[df.Year > 1901]\n",
    "# roll up by year\n",
    "df_group_year = df.groupby(['Year']).agg({'RgnAvTemp' : 'mean'})\n",
    "# add the Year column so we can use that in a model\n",
    "df_group_year['Year'] = df_group_year.index\n",
    "df_group_year = df_group_year.rename(columns = {'RgnAvTemp' : 'AvTemp'})"
   ]
  },
  {
   "cell_type": "code",
   "execution_count": 4,
   "metadata": {},
   "outputs": [
    {
     "name": "stdout",
     "output_type": "stream",
     "text": [
      "Year  1902      1903      1904      1905      1906\n",
      "X0     1.0  1.000000  1.000000  1.000000  1.000000\n",
      "X1     0.0  0.009259  0.018519  0.027778  0.037037\n",
      "Year\n",
      "1902    0.114676\n",
      "1903    0.058017\n",
      "1904    0.056296\n",
      "1905    0.265110\n",
      "1906    0.115164\n",
      "Name: AvTemp, dtype: float64\n"
     ]
    }
   ],
   "source": [
    "# scale the data and add the X0 series\n",
    "X_min = df_group_year.Year.min()\n",
    "X_range = df_group_year.Year.max() - df_group_year.Year.min()\n",
    "Y_min = df_group_year.AvTemp.min()\n",
    "Y_range = df_group_year.AvTemp.max() - df_group_year.AvTemp.min()\n",
    "scale_X = (df_group_year.Year - X_min) / X_range\n",
    "train_X = pd.DataFrame({'X0' : np.ones(df_group_year.shape[0]), \n",
    "                        'X1' : scale_X}).transpose()\n",
    "train_Y = (df_group_year.AvTemp - Y_min) / Y_range\n",
    "print(train_X.iloc[:, :5])\n",
    "print(train_Y[:5])"
   ]
  },
  {
   "cell_type": "code",
   "execution_count": 5,
   "metadata": {},
   "outputs": [
    {
     "name": "stdout",
     "output_type": "stream",
     "text": [
      "initial Beta\n",
      " [[ 0.04967142 -0.01382643]]\n"
     ]
    }
   ],
   "source": [
    "# initialize Beta and the learning rate gamma\n",
    "np.random.seed(42)\n",
    "Beta = np.random.randn(2).reshape((1, 2)) * 0.1\n",
    "print('initial Beta\\n', Beta)"
   ]
  },
  {
   "cell_type": "code",
   "execution_count": 6,
   "metadata": {},
   "outputs": [],
   "source": [
    "gamma = 0.0005\n",
    "max_epochs = 100"
   ]
  },
  {
   "cell_type": "code",
   "execution_count": 7,
   "metadata": {},
   "outputs": [
    {
     "name": "stdout",
     "output_type": "stream",
     "text": [
      "Initial cost J(Beta) = 0.18849128813354338\n"
     ]
    }
   ],
   "source": [
    "y_pred = h_x(Beta, train_X)\n",
    "print('Initial cost J(Beta) = ' + str(J_beta(y_pred, train_Y)))"
   ]
  },
  {
   "cell_type": "code",
   "execution_count": 8,
   "metadata": {},
   "outputs": [
    {
     "name": "stdout",
     "output_type": "stream",
     "text": [
      "New cost J(Beta) = 0.171 at epoch 0\n",
      "New cost J(Beta) = 0.083 at epoch 10\n",
      "New cost J(Beta) = 0.06 at epoch 20\n",
      "New cost J(Beta) = 0.052 at epoch 30\n",
      "New cost J(Beta) = 0.048 at epoch 40\n",
      "New cost J(Beta) = 0.046 at epoch 50\n",
      "New cost J(Beta) = 0.043 at epoch 60\n",
      "New cost J(Beta) = 0.041 at epoch 70\n",
      "New cost J(Beta) = 0.039 at epoch 80\n",
      "New cost J(Beta) = 0.037 at epoch 90\n"
     ]
    }
   ],
   "source": [
    "epochs = []\n",
    "costs = []\n",
    "for epoch in range(max_epochs):\n",
    "    Beta += update(y_pred, train_Y, train_X, gamma)\n",
    "    y_pred = h_x(Beta, train_X)\n",
    "    cost = J_beta(y_pred, train_Y)\n",
    "    if epoch % 10 == 0:\n",
    "        print('New cost J(Beta) = ' + str(round(cost, 3)) + \n",
    "              ' at epoch ' + str(epoch))    \n",
    "    epochs.append(epoch)\n",
    "    costs.append(cost)"
   ]
  },
  {
   "cell_type": "code",
   "execution_count": 9,
   "metadata": {},
   "outputs": [
    {
     "data": {
      "image/png": "[encoded data removed]",
      "text/plain": [
       "<Figure size 720x504 with 1 Axes>"
      ]
     },
     "metadata": {
      "needs_background": "light"
     },
     "output_type": "display_data"
    }
   ],
   "source": [
    "# plot training history\n",
    "fig = plt.figure(figsize=(10, 7))\n",
    "ax = fig.add_axes([1, 1, 1, 1])\n",
    "ax.plot(epochs, costs)\n",
    "ax.tick_params(labelsize = 14)\n",
    "ax.set_ylabel('Cost Function J(' + r'$\\theta$' + ')',\n",
    "               fontsize = 18)\n",
    "ax.set_xlabel('Epoch', fontsize = 18)\n",
    "plt.show()"
   ]
  },
  {
   "cell_type": "code",
   "execution_count": 10,
   "metadata": {},
   "outputs": [
    {
     "name": "stdout",
     "output_type": "stream",
     "text": [
      "r squared =  0.5488427996385263\n"
     ]
    }
   ],
   "source": [
    "# calculate the r squared value\n",
    "r2 = r2_score(train_Y, y_pred)\n",
    "print('r squared = ', r2)"
   ]
  },
  {
   "cell_type": "code",
   "execution_count": 11,
   "metadata": {},
   "outputs": [],
   "source": [
    "# generate predictions for visualization\n",
    "pred_X = train_X\n",
    "# make predictions\n",
    "pred_Y = h_x(Beta, pred_X)\n",
    "# scale predictions back to real values\n",
    "pred_Y = (pred_Y * Y_range) + Y_min\n",
    "# replace the X with the original values\n",
    "pred_X = df_group_year['Year']"
   ]
  },
  {
   "cell_type": "code",
   "execution_count": 12,
   "metadata": {},
   "outputs": [],
   "source": [
    "# scale the coefficients back to real values\n",
    "Beta0 = (Y_min + Y_range * Beta[0, 0] - Y_range * Beta[0, 1] * X_min / X_range)\n",
    "Beta1 = Y_range * Beta[0, 1] / X_range"
   ]
  },
  {
   "cell_type": "code",
   "execution_count": 13,
   "metadata": {},
   "outputs": [
    {
     "data": {
      "text/plain": [
       "[<matplotlib.lines.Line2D at 0x25d9ecda048>]"
      ]
     },
     "execution_count": 13,
     "metadata": {},
     "output_type": "execute_result"
    },
    {
     "data": {
      "image/png": "[encoded data removed]",
      "text/plain": [
       "<Figure size 720x504 with 1 Axes>"
      ]
     },
     "metadata": {
      "needs_background": "light"
     },
     "output_type": "display_data"
    }
   ],
   "source": [
    "fig = plt.figure(figsize=(10, 7))\n",
    "ax = fig.add_axes([1, 1, 1, 1])\n",
    "# Raw data\n",
    "raw_plot_data = df\n",
    "ax.scatter(raw_plot_data.Year, \n",
    "           raw_plot_data.RgnAvTemp, \n",
    "           label = 'Raw Data', \n",
    "           c = 'red',\n",
    "           s = 1.5)\n",
    "# Annual averages\n",
    "ax.scatter(df_group_year.Year, \n",
    "           df_group_year.AvTemp, \n",
    "           label = 'Annual average', \n",
    "           c = 'k',\n",
    "           s = 10)\n",
    "# linear fit\n",
    "ax.plot(pred_X, pred_Y, \n",
    "        c = \"blue\",\n",
    "        linestyle = '-.',\n",
    "        linewidth = 4,\n",
    "        label = 'linear fit')"
   ]
  },
  {
   "cell_type": "code",
   "execution_count": 14,
   "metadata": {},
   "outputs": [],
   "source": [
    "ax.text(1902, 20,\n",
    "        'Temp = ' + \n",
    "        str(round(Beta0, 2)) +\n",
    "        ' + ' +\n",
    "        str(round(Beta1, 4)) +\n",
    "        ' * Year',\n",
    "        fontsize = 16,\n",
    "        backgroundcolor = 'white')\n",
    "ax.set_title('Mean Air Temperature Measurements',\n",
    "             fontsize = 16)\n",
    "# make the ticks include the first and last years\n",
    "tick_years = [1902] + list(range(1910, 2011, 10))\n",
    "ax.set_xlabel('Year', \n",
    "             fontsize = 14)\n",
    "ax.set_ylabel('Temperature ($^\\circ$C)', \n",
    "             fontsize = 14)\n",
    "ax.set_ylim(15, 21)\n",
    "ax.set_xticks(tick_years)\n",
    "ax.tick_params(labelsize = 12)\n",
    "ax.legend(fontsize = 12)\n",
    "plt.show()"
   ]
  },
  {
   "cell_type": "code",
   "execution_count": null,
   "metadata": {},
   "outputs": [],
   "source": []
  }
 ],
 "metadata": {
  "kernelspec": {
   "display_name": "Python 3",
   "language": "python",
   "name": "python3"
  },
  "language_info": {
   "codemirror_mode": {
    "name": "ipython",
    "version": 3
   },
   "file_extension": ".py",
   "mimetype": "text/x-python",
   "name": "python",
   "nbconvert_exporter": "python",
   "pygments_lexer": "ipython3",
   "version": "3.7.7"
  }
 },
 "nbformat": 4,
 "nbformat_minor": 4
}
