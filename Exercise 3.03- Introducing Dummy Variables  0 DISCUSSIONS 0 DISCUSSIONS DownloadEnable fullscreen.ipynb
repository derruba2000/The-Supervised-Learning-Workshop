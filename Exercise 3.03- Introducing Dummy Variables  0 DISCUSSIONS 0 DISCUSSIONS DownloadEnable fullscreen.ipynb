{
 "cells": [
  {
   "cell_type": "code",
   "execution_count": 1,
   "metadata": {},
   "outputs": [],
   "source": [
    "import pandas as pd\n",
    "import numpy as np\n",
    "import matplotlib.pyplot as plt\n",
    "from sklearn.linear_model import LinearRegression"
   ]
  },
  {
   "cell_type": "code",
   "execution_count": 2,
   "metadata": {},
   "outputs": [
    {
     "name": "stdout",
     "output_type": "stream",
     "text": [
      "  Region  Year  RgnAvTemp\n",
      "0      A  1841  12.557395\n",
      "1      B  1841  13.267048\n",
      "2      E  1841  12.217463\n",
      "3      F  1841  13.189420\n",
      "4      A  1842  13.462887\n",
      "    Region  Year  RgnAvTemp\n",
      "292      A  1902  17.021583\n",
      "293      B  1902  17.590253\n",
      "294      C  1902  17.493082\n",
      "295      D  1902  18.706166\n",
      "296      E  1902  17.390903\n"
     ]
    }
   ],
   "source": [
    "# load data\n",
    "df = pd.read_csv('C:/Data/SupervisedLearningWShop/synth_temp.csv')\n",
    "# slice 1902 and forward\n",
    "print(df.head())\n",
    "df = df.loc[df.Year > 1901]\n",
    "print(df.head())\n"
   ]
  },
  {
   "cell_type": "code",
   "execution_count": 3,
   "metadata": {},
   "outputs": [
    {
     "name": "stdout",
     "output_type": "stream",
     "text": [
      "             RgnAvTemp\n",
      "Year Region           \n",
      "1902 A       17.021583\n",
      "     B       17.590253\n",
      "     C       17.493082\n",
      "     D       18.706166\n",
      "     E       17.390903\n",
      "     F       17.438122\n",
      "     G       18.494440\n",
      "     H       15.708989\n",
      "     I       19.012183\n",
      "     J       17.292191\n",
      "     K       15.020913\n",
      "     L       17.451698\n",
      "             RgnAvTemp\n",
      "Year Region           \n",
      "2010 A       19.732301\n",
      "     B       20.161722\n",
      "     C       19.922963\n",
      "     D       21.221710\n",
      "     E       19.571958\n",
      "     F       19.903760\n",
      "     G       21.511489\n",
      "     H       16.867440\n",
      "     I       23.772483\n",
      "     J       18.982479\n",
      "     K       17.462226\n",
      "     L       19.918854\n"
     ]
    }
   ],
   "source": [
    "# roll up by year\n",
    "df_group_year = df.groupby(['Year', 'Region']).agg({'RgnAvTemp':'mean'})\n",
    "# note that the .droplevel() method removes the multiindex \n",
    "# added by the .agg() method() to make things simpler\n",
    "# later on in our analysis\n",
    "print(df_group_year.head(12))\n",
    "print(df_group_year.tail(12))"
   ]
  },
  {
   "cell_type": "code",
   "execution_count": 4,
   "metadata": {},
   "outputs": [],
   "source": [
    "# add the region column so we can use that for dummy variables\n",
    "df_group_year['Region'] = df_group_year.index.get_level_values(1)\n",
    "# add the Year column so we can use that in a model\n",
    "df_group_year['Year'] = df_group_year.index.get_level_values(0)#\n",
    "# reset the index on the long axis\n",
    "df_group_year = df_group_year.droplevel(0, axis = 0)\n",
    "df_group_year = df_group_year.reset_index(drop = True)"
   ]
  },
  {
   "cell_type": "code",
   "execution_count": 5,
   "metadata": {},
   "outputs": [
    {
     "data": {
      "image/png": "[encoded data removed]",
      "text/plain": [
       "<Figure size 720x504 with 1 Axes>"
      ]
     },
     "metadata": {
      "needs_background": "light"
     },
     "output_type": "display_data"
    }
   ],
   "source": [
    "# inspect data by region\n",
    "region_temps = df_group_year.groupby('Region').agg({'RgnAvTemp':'mean'})\n",
    "colors = ['red', 'green', 'blue', 'black', 'lightcoral', 'palegreen',\n",
    "          'skyblue', 'lightslategray', 'magenta', 'chartreuse', 'lightblue',\n",
    "          'olive']\n",
    "fig = plt.figure(figsize=(10, 7))\n",
    "ax = fig.add_axes([1, 1, 1, 1])\n",
    "ax.bar(region_temps.index, \n",
    "       region_temps.RgnAvTemp, \n",
    "       color = colors,\n",
    "       alpha = 0.5)\n",
    "ax.set_title('Mean Air Temperature Measurements',\n",
    "             fontsize = 16)\n",
    "ax.set_xlabel('Region', \n",
    "             fontsize = 14)\n",
    "ax.set_ylabel('Temperature ($^\\circ$C)', \n",
    "             fontsize = 14)\n",
    "ax.tick_params(labelsize = 12)\n",
    "plt.show()"
   ]
  },
  {
   "cell_type": "code",
   "execution_count": 6,
   "metadata": {},
   "outputs": [
    {
     "name": "stdout",
     "output_type": "stream",
     "text": [
      "   RgnAvTemp Region  Year  B  C  D  E  F  G  H  I  J  K  L\n",
      "0  17.021583      A  1902  0  0  0  0  0  0  0  0  0  0  0\n",
      "1  17.590253      B  1902  1  0  0  0  0  0  0  0  0  0  0\n",
      "2  17.493082      C  1902  0  1  0  0  0  0  0  0  0  0  0\n",
      "3  18.706166      D  1902  0  0  1  0  0  0  0  0  0  0  0\n",
      "4  17.390903      E  1902  0  0  0  1  0  0  0  0  0  0  0\n",
      "      RgnAvTemp Region  Year  B  C  D  E  F  G  H  I  J  K  L\n",
      "1303  16.867440      H  2010  0  0  0  0  0  0  1  0  0  0  0\n",
      "1304  23.772483      I  2010  0  0  0  0  0  0  0  1  0  0  0\n",
      "1305  18.982479      J  2010  0  0  0  0  0  0  0  0  1  0  0\n",
      "1306  17.462226      K  2010  0  0  0  0  0  0  0  0  0  1  0\n",
      "1307  19.918854      L  2010  0  0  0  0  0  0  0  0  0  0  1\n"
     ]
    }
   ],
   "source": [
    "# convert the categorical variable 'region' to dummy vars\n",
    "dummy_cols = pd.get_dummies(df_group_year.Region, drop_first = True)\n",
    "df_group_year = pd.concat([df_group_year, dummy_cols], \n",
    "                          axis = 1) \n",
    "print(df_group_year.head())\n",
    "print(df_group_year.tail())"
   ]
  },
  {
   "cell_type": "code",
   "execution_count": 7,
   "metadata": {},
   "outputs": [
    {
     "name": "stdout",
     "output_type": "stream",
     "text": [
      "r squared  0.7778768442731825\n"
     ]
    }
   ],
   "source": [
    "linear_model = LinearRegression(fit_intercept = True)\n",
    "linear_model.fit(df_group_year.loc[:, 'Year':'L'],\n",
    "                 df_group_year.RgnAvTemp)\n",
    "r2 = linear_model.score(df_group_year.loc[:, 'Year':'L'],\n",
    "                 df_group_year.RgnAvTemp)\n",
    "print('r squared ', r2)"
   ]
  },
  {
   "cell_type": "code",
   "execution_count": 8,
   "metadata": {},
   "outputs": [
    {
     "name": "stdout",
     "output_type": "stream",
     "text": [
      "   RgnAvTemp Region  Year  B  C  D  E  F  G  H  I  J  K  L  pred_temp\n",
      "0  17.021583      A  1902  0  0  0  0  0  0  0  0  0  0  0  16.441468\n",
      "1  17.590253      B  1902  1  0  0  0  0  0  0  0  0  0  0  17.188189\n",
      "2  17.493082      C  1902  0  1  0  0  0  0  0  0  0  0  0  16.977391\n",
      "3  18.706166      D  1902  0  0  1  0  0  0  0  0  0  0  0  17.732365\n",
      "4  17.390903      E  1902  0  0  0  1  0  0  0  0  0  0  0  16.195227\n"
     ]
    }
   ],
   "source": [
    "# construct data to predict from model\n",
    "pred_X = df_group_year.drop(['RgnAvTemp', 'Region'], axis = 1)\n",
    "pred_Y = linear_model.predict(pred_X.values)\n",
    "preds = pd.concat([df_group_year.RgnAvTemp, \n",
    "                   df_group_year.Region,\n",
    "                   pred_X,  pd.Series(pred_Y)], axis = 1)\n",
    "preds.rename(columns = {0 : 'pred_temp'}, inplace = True)\n",
    "print(preds.head())"
   ]
  },
  {
   "cell_type": "code",
   "execution_count": 9,
   "metadata": {},
   "outputs": [
    {
     "data": {
      "text/plain": [
       "<matplotlib.collections.PathCollection at 0x274ea144888>"
      ]
     },
     "execution_count": 9,
     "metadata": {},
     "output_type": "execute_result"
    },
    {
     "data": {
      "image/png": "[encoded data removed]",
      "text/plain": [
       "<Figure size 720x504 with 1 Axes>"
      ]
     },
     "metadata": {
      "needs_background": "light"
     },
     "output_type": "display_data"
    }
   ],
   "source": [
    "# define a sample of the raw data and predictions\n",
    "# set a seed so results are repeatable\n",
    "np.random.seed(42)\n",
    "plot_data = preds.sample(n = 100)\n",
    "fig = plt.figure(figsize=(10, 7))\n",
    "ax = fig.add_axes([1, 1, 1, 1])\n",
    "# Raw data\n",
    "raw_plot_data = plot_data\n",
    "ax.scatter(raw_plot_data.Year, \n",
    "           raw_plot_data.RgnAvTemp, \n",
    "           label = 'Raw Data', \n",
    "           c = 'red', \n",
    "           s = 1.5)\n",
    "# Annual averages\n",
    "annual_plot_data = df_group_year.groupby('Year').agg('mean')\n",
    "ax.scatter(annual_plot_data.index, \n",
    "           annual_plot_data.RgnAvTemp, \n",
    "           label = 'Annual average', \n",
    "           c = 'k',\n",
    "           s = 10)"
   ]
  },
  {
   "cell_type": "code",
   "execution_count": 10,
   "metadata": {},
   "outputs": [],
   "source": [
    "fit_data = plot_data\n",
    "for i in range(len(plot_data.Region.unique())):\n",
    "    region = plot_data.Region.unique()[i]\n",
    "    plot_region = fit_data.loc[fit_data.Region == region, :]\n",
    "    ax.scatter(plot_region.Year,\n",
    "               plot_region.pred_temp, \n",
    "               edgecolor = colors[i],\n",
    "               facecolor = \"none\",\n",
    "               s = 80,\n",
    "               label = region)\n",
    "# draw faint lines connecting the raw to the predicted\n",
    "for i in fit_data.index:\n",
    "    ax.plot([fit_data.Year[i], fit_data.Year[i]],\n",
    "            [fit_data.pred_temp[i], fit_data.RgnAvTemp[i]],\n",
    "            '-',\n",
    "            linewidth = 0.1,\n",
    "            c = \"red\")\n",
    "ax.set_title('Mean Air Temperature Measurements',\n",
    "             fontsize = 16)\n",
    "# make the ticks include the first and last years\n",
    "tick_years = [1902] + list(range(1910, 2011, 10))\n",
    "ax.set_xlabel('Year', \n",
    "              fontsize = 14)\n",
    "ax.set_ylabel('Temperature ($^\\circ$C)', \n",
    "              fontsize = 14)\n",
    "ax.set_ylim(15, 21)\n",
    "ax.set_xticks(tick_years)\n",
    "ax.tick_params(labelsize = 12)\n",
    "ax.legend(fontsize = 12)\n",
    "plt.show()"
   ]
  },
  {
   "cell_type": "code",
   "execution_count": 11,
   "metadata": {},
   "outputs": [
    {
     "data": {
      "text/plain": [
       "<matplotlib.collections.PathCollection at 0x274ea40bcc8>"
      ]
     },
     "execution_count": 11,
     "metadata": {},
     "output_type": "execute_result"
    },
    {
     "data": {
      "image/png": "[encoded data removed]",
      "text/plain": [
       "<Figure size 720x504 with 1 Axes>"
      ]
     },
     "metadata": {
      "needs_background": "light"
     },
     "output_type": "display_data"
    }
   ],
   "source": [
    "# let's plot just one region \n",
    "region_B = preds.loc[preds.B == 1, :]\n",
    "np.random.seed(42)\n",
    "plot_data = region_B.sample(n = 50) \n",
    "fig = plt.figure(figsize=(10, 7))\n",
    "ax = fig.add_axes([1, 1, 1, 1])\n",
    "# Raw data\n",
    "ax.scatter(plot_data.Year, \n",
    "           plot_data.RgnAvTemp, \n",
    "           label = 'Raw Data', \n",
    "           c = 'red', \n",
    "           s = 1.5)\n",
    "ax.scatter(plot_data.Year,\n",
    "           plot_data.pred_temp,\n",
    "           label = \"Predictions\",\n",
    "           facecolor = \"none\",\n",
    "           edgecolor = \"blue\",\n",
    "           s = 80)"
   ]
  },
  {
   "cell_type": "code",
   "execution_count": 12,
   "metadata": {},
   "outputs": [],
   "source": [
    "for i in plot_data.index:\n",
    "    ax.plot([plot_data.Year[i], plot_data.Year[i]],\n",
    "            [plot_data.pred_temp[i], plot_data.RgnAvTemp[i]],\n",
    "            '-',\n",
    "            linewidth = 0.1,\n",
    "            c = \"red\")\n",
    "# make the ticks include the first and last years\n",
    "tick_years = [1902] + list(range(1910, 2011, 10))\n",
    "ax.set_xlabel('Year', \n",
    "              fontsize = 14)\n",
    "ax.set_ylabel('Temperature ($^\\circ$C)', \n",
    "              fontsize = 14)\n",
    "ax.set_ylim(16, 21)\n",
    "ax.set_xticks(tick_years)\n",
    "ax.tick_params(labelsize = 12)\n",
    "ax.legend(fontsize = 12)\n",
    "plt.show()"
   ]
  },
  {
   "cell_type": "code",
   "execution_count": null,
   "metadata": {},
   "outputs": [],
   "source": []
  }
 ],
 "metadata": {
  "kernelspec": {
   "display_name": "Python 3",
   "language": "python",
   "name": "python3"
  },
  "language_info": {
   "codemirror_mode": {
    "name": "ipython",
    "version": 3
   },
   "file_extension": ".py",
   "mimetype": "text/x-python",
   "name": "python",
   "nbconvert_exporter": "python",
   "pygments_lexer": "ipython3",
   "version": "3.7.7"
  }
 },
 "nbformat": 4,
 "nbformat_minor": 4
}
