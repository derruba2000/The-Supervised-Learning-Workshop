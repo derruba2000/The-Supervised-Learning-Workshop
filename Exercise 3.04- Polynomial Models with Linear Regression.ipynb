{
 "cells": [
  {
   "cell_type": "code",
   "execution_count": 1,
   "metadata": {},
   "outputs": [],
   "source": [
    "import pandas as pd\n",
    "import matplotlib.pyplot as plt\n",
    "from sklearn.linear_model import LinearRegression\n",
    "# load the data\n",
    "df = pd.read_csv('C:/Data/SupervisedLearningWShop/synth_temp.csv')\n",
    "# slice 1902 and forward\n",
    "df = df.loc[df.Year > 1901]\n",
    "# roll up by year\n",
    "df_group_year = df.groupby(['Year']).agg({'RgnAvTemp' : 'mean'})"
   ]
  },
  {
   "cell_type": "code",
   "execution_count": 2,
   "metadata": {},
   "outputs": [
    {
     "name": "stdout",
     "output_type": "stream",
     "text": [
      "         AvTemp  Year    Year2\n",
      "Year                          \n",
      "1902  17.385044  1902  3617604\n",
      "1903  17.222163  1903  3621409\n",
      "1904  17.217215  1904  3625216\n",
      "1905  17.817502  1905  3629025\n",
      "1906  17.386445  1906  3632836\n",
      "         AvTemp  Year    Year2\n",
      "Year                          \n",
      "2006  19.904999  2006  4024036\n",
      "2007  19.820224  2007  4028049\n",
      "2008  19.245558  2008  4032064\n",
      "2009  19.537290  2009  4036081\n",
      "2010  19.919115  2010  4040100\n"
     ]
    }
   ],
   "source": [
    "# add the Year column so we can use that in a model\n",
    "df_group_year['Year'] = df_group_year.index\n",
    "df_group_year = df_group_year.rename(columns = {'RgnAvTemp' : 'AvTemp'})\n",
    "# add a Year**2 column to build a polynomial model of degree 2\n",
    "df_group_year['Year2'] = df_group_year['Year']**2\n",
    "print(df_group_year.head())\n",
    "print(df_group_year.tail())"
   ]
  },
  {
   "cell_type": "code",
   "execution_count": 3,
   "metadata": {},
   "outputs": [
    {
     "name": "stdout",
     "output_type": "stream",
     "text": [
      "model coefficients =  [-1.02981369e+00  2.69257683e-04]\n",
      "model intercept =  1002.0087338444181\n",
      "r squared =  0.9313996496373737\n"
     ]
    }
   ],
   "source": [
    "# construct the model and inspect results\n",
    "linear_model = LinearRegression(fit_intercept = True)\n",
    "linear_model.fit(df_group_year.loc[:, ['Year', 'Year2']],\n",
    "                 df_group_year.AvTemp)\n",
    "print('model coefficients = ', linear_model.coef_)\n",
    "print('model intercept = ', linear_model.intercept_)\n",
    "r2 = linear_model.score(df_group_year.loc[:, ['Year', 'Year2']],\n",
    "                        df_group_year.AvTemp)\n",
    "print('r squared = ', r2)"
   ]
  },
  {
   "cell_type": "code",
   "execution_count": 5,
   "metadata": {},
   "outputs": [],
   "source": [
    "# generate predictions for visualization\n",
    "pred_X = df_group_year.loc[:, ['Year', 'Year2']]\n",
    "pred_Y = linear_model.predict(pred_X)\n",
    "# generate predictions for the next 10 years\n",
    "pred_X_future = pd.DataFrame(\n",
    "    list(range(2011, 2021))).rename(columns = {0 : 'Year'})\n",
    "pred_X_future['Year2'] = pred_X_future['Year']**2\n",
    "pred_Y_future = linear_model.predict(pred_X_future)"
   ]
  },
  {
   "cell_type": "code",
   "execution_count": 6,
   "metadata": {},
   "outputs": [
    {
     "data": {
      "text/plain": [
       "[<matplotlib.lines.Line2D at 0x28f0ce7a8c8>]"
      ]
     },
     "execution_count": 6,
     "metadata": {},
     "output_type": "execute_result"
    },
    {
     "data": {
      "image/png": "[encoded data removed]",
      "text/plain": [
       "<Figure size 720x504 with 1 Axes>"
      ]
     },
     "metadata": {
      "needs_background": "light"
     },
     "output_type": "display_data"
    }
   ],
   "source": [
    "fig = plt.figure(figsize=(10, 7))\n",
    "ax = fig.add_axes([1, 1, 1, 1]);\n",
    "# Raw data\n",
    "raw_plot_data = df\n",
    "ax.scatter(raw_plot_data.Year, \n",
    "           raw_plot_data.RgnAvTemp, \n",
    "           label = 'Raw Data', \n",
    "           c = 'red',\n",
    "           s = 1.5)\n",
    "# Annual averages\n",
    "ax.scatter(df_group_year.Year, \n",
    "           df_group_year.AvTemp, \n",
    "           label = 'Annual average', \n",
    "           c = 'k',\n",
    "           s = 10)\n",
    "# linear fit\n",
    "ax.plot(pred_X.Year, pred_Y, \n",
    "        c = \"blue\",\n",
    "        linestyle = '-.',\n",
    "        linewidth = 4,\n",
    "        label = 'linear fit')"
   ]
  },
  {
   "cell_type": "code",
   "execution_count": 7,
   "metadata": {},
   "outputs": [],
   "source": [
    "ax.plot(pred_X_future.Year, pred_Y_future,\n",
    "        c = \"purple\",\n",
    "        linestyle = '--',\n",
    "        linewidth = 4,\n",
    "        label = 'future predictions')\n",
    "ax.set_title('Mean Air Temperature Measurements',\n",
    "             fontsize = 16)\n",
    "# make the ticks include the first and last years\n",
    "tick_years = [1902] + list(range(1910, 2021, 10))\n",
    "ax.set_xlabel('Year', \n",
    "             fontsize = 14)\n",
    "ax.set_ylabel('Temperature ($^\\circ$C)', \n",
    "              fontsize = 14)\n",
    "ax.set_ylim(15, 21)\n",
    "ax.set_xticks(tick_years)\n",
    "ax.tick_params(labelsize = 12)\n",
    "ax.legend(fontsize = 12)\n",
    "plt.show()"
   ]
  },
  {
   "cell_type": "code",
   "execution_count": null,
   "metadata": {},
   "outputs": [],
   "source": []
  }
 ],
 "metadata": {
  "kernelspec": {
   "display_name": "Python 3",
   "language": "python",
   "name": "python3"
  },
  "language_info": {
   "codemirror_mode": {
    "name": "ipython",
    "version": 3
   },
   "file_extension": ".py",
   "mimetype": "text/x-python",
   "name": "python",
   "nbconvert_exporter": "python",
   "pygments_lexer": "ipython3",
   "version": "3.7.7"
  }
 },
 "nbformat": 4,
 "nbformat_minor": 4
}
